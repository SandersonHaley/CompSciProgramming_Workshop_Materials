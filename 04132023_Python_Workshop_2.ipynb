{
 "cells": [
  {
   "cell_type": "code",
   "execution_count": 1,
   "id": "eaeff831",
   "metadata": {},
   "outputs": [],
   "source": [
    "#import the packages/modules you need\n",
    "import os"
   ]
  },
  {
   "cell_type": "code",
   "execution_count": 2,
   "id": "a089fa29",
   "metadata": {},
   "outputs": [
    {
     "data": {
      "text/plain": [
       "'Python Programming Basics\\nFor loops\\nWhile Loops\\nNested Loops\\nConditional Statements\\nFunctions'"
      ]
     },
     "execution_count": 2,
     "metadata": {},
     "output_type": "execute_result"
    }
   ],
   "source": [
    "\"\"\"Python Programming Basics\n",
    "For loops\n",
    "While Loops\n",
    "Nested Loops\n",
    "Conditional Statements\n",
    "Functions\"\"\""
   ]
  },
  {
   "cell_type": "code",
   "execution_count": 8,
   "id": "1407979a",
   "metadata": {},
   "outputs": [
    {
     "name": "stdout",
     "output_type": "stream",
     "text": [
      "Hip Hip Hooray!\n",
      "Hip Hip Hooray!\n",
      "Hip Hip Hooray!\n",
      "Congratulations!\n",
      "0 Hip Hip Hooray!\n",
      "1 Hip Hip Hooray!\n",
      "2 Hip Hip Hooray!\n",
      "10\n",
      "9\n",
      "8\n",
      "7\n",
      "6\n",
      "5\n",
      "4\n",
      "3\n",
      "2\n",
      "1\n",
      "2\n",
      "4\n",
      "6\n",
      "8\n",
      "pears\n",
      "oranges\n",
      "mangos\n",
      "cherries\n",
      "bananas\n",
      "apples\n",
      "pears\n",
      "oranges\n",
      "mangos\n",
      "cherries\n",
      "bananas\n",
      "apples\n"
     ]
    }
   ],
   "source": [
    "\"\"\"FOR LOOPS\n",
    "FOR LOOPS repeat code a specified number of times\n",
    "\n",
    "Formatting FOR LOOPS\n",
    "The for loop follows a very specific format; even the number of spaces you use on certain lines is important\n",
    "Steps for Creating a For Loop\n",
    "1) Enter the key word \"for\".\n",
    "2) Name the COUNTER Variable. This variable's value increases each time the loop repeats. \n",
    "You can name the counter varaiable anything you want. Many programmers name it \"i\" out of tradition. \n",
    "3) Add the key word \"in\" to show that you are about to specify how many times the loop should repeat.\n",
    "4) Set the number of times the lopp should repeat. Use range() function to do this. \n",
    "The range function will count from zero up to, but not including, the number listed in the function's parentheses\n",
    "5) End the first line of the for loop with a colon (:).\n",
    "6) Below the first line of the for loop, add the code to be repeated. Indent the code to be repeated.\n",
    "In python, the indent indicates that the code on that line is part of the code above it.\"\"\"\n",
    "\n",
    "for i in range(3):\n",
    "    print(\"Hip Hip Hooray!\")\n",
    "print(\"Congratulations!\")\n",
    "\n",
    "\"\"\"Every time you create a for loop, you also create a new variable that counts the number of times the loop is repeated.\n",
    "The variable can be used within the repeated code. The \"i\" variable value in the first run of the loop is 0 and the last run shows \"i\" having a value of 2.\"\"\"\n",
    "\n",
    "for i in range(3):\n",
    "    print(i, \"Hip Hip Hooray!\")\n",
    "\"\"\"The counter variable can be used in other ways like making a countdown or count by 2s in the range.\"\"\"\n",
    "for i in range(10):\n",
    "    print(10 - i)\n",
    "#count up in 2s starting at 2 and ending at 8    \n",
    "for i in range (2, 10, 2):\n",
    "    print(i)\n",
    "\"\"\"To print every item in a list\"\"\"\n",
    "fruits = [\"pears\", \"oranges\", \"mangos\", \"cherries\", \"bananas\", \"apples\"]\n",
    "for i in range(6):\n",
    "    print(fruits[i]) \n",
    "#OR\n",
    "for i in fruits:\n",
    "    print(i)"
   ]
  },
  {
   "cell_type": "code",
   "execution_count": 3,
   "id": "6ae188d4",
   "metadata": {},
   "outputs": [
    {
     "name": "stdout",
     "output_type": "stream",
     "text": [
      "Enter the password: enter whatever\n",
      "Your password is incorrect.\n",
      "Enter the password: myPassword1234\n",
      "Correct password. Welcome!\n"
     ]
    }
   ],
   "source": [
    "\"\"\"WHILE LOOPS\n",
    "WHILE LOOPS repeat as long as the conditional statements within them are True.\n",
    "Similar to a For Loop, but replaces the counting portion with a CONDITIONAL STATEMENT.\n",
    "WHILE loops always start with the key word \"while\" followed by a Boolean Expression and then a colon(:).\n",
    "The repeated code is indented below the first line.\n",
    "Avoid Infinite Loops (forever loops) which are while loops that use a Boolean statement that can never be false.\"\"\"\n",
    "\n",
    "#a password checker using a while loop that will ask for a password until the right one is inputted\n",
    "password = None\n",
    "while password != \"myPassword1234\":\n",
    "    password = input(\"Enter the password: \")\n",
    "    if password != \"myPassword1234\":\n",
    "        print(\"Your password is incorrect.\")\n",
    "print(\"Correct password. Welcome!\")"
   ]
  },
  {
   "cell_type": "code",
   "execution_count": 4,
   "id": "6e8b1574",
   "metadata": {},
   "outputs": [
    {
     "name": "stdout",
     "output_type": "stream",
     "text": [
      "Enter the password: cats\n",
      "Your password is incorrect. You have already guessed:\n",
      "cats\n",
      "Enter the password: doggy\n",
      "Your password is incorrect. You have already guessed:\n",
      "cats\n",
      "doggy\n",
      "Enter the password: myPassword1234\n",
      "Correct password. Welcome!\n"
     ]
    }
   ],
   "source": [
    "\"\"\"NESTED LOOPS\n",
    "A Nested Loop is when one loop is put inside another loop. They help create more complex repeating code\"\"\"\n",
    "#more complex password checker\n",
    "password = None\n",
    "attempts = []\n",
    "while password != \"myPassword1234\":\n",
    "    password = input(\"Enter the password: \")\n",
    "    attempts.append(password)\n",
    "    if password != \"myPassword1234\":\n",
    "        print(\"Your password is incorrect. You have already guessed:\")\n",
    "        for i in attempts:\n",
    "            print(i)\n",
    "print(\"Correct password. Welcome!\")"
   ]
  },
  {
   "cell_type": "code",
   "execution_count": 5,
   "id": "ae69175c",
   "metadata": {},
   "outputs": [
    {
     "name": "stdout",
     "output_type": "stream",
     "text": [
      "Skill Level: Expert\n",
      "Skill Level: Novice\n",
      "Skill Level: Intermediate\n"
     ]
    }
   ],
   "source": [
    "\"\"\"Conditional Statements\n",
    "Conditional Statements in Python always start with the key word \"if\" followed by the Boolean Expression and a colon.\n",
    "The code that runs if the condition is true is added below the first line and indented one tab\"\"\"\n",
    "#example: \"Skill Level: Expert\" will print because 120 > 90\n",
    "xp = 120\n",
    "if xp >= 90:\n",
    "    print(\"Skill Level: Expert\")\n",
    "\"\"\"Else Statements\n",
    "An ELSE statement is a statement that runs with the Boolean value is False\"\"\"\n",
    "#example that displays \"Skill Level: Novice\" because xp is 50, which in not greater than or equal to 90\n",
    "xp = 50\n",
    "if xp >= 90:\n",
    "    print(\"Skill Level: Expert\")\n",
    "else:\n",
    "    print(\"Skill Level: Novice\")\n",
    "\"\"\"Elif\n",
    "ELIF is used to combine an else statement with another conditional statement to check for additional information.\n",
    "Elif is used only after an \"if\" or another \"elif\". Next to elif, add a Boolean Expression and then a colon.\"\"\"\n",
    "#example: add a \"Skill Level: Intermediate\" as an option\n",
    "\n",
    "xp = 50\n",
    "if xp >= 90:\n",
    "    print(\"Skill Level: Expert\")\n",
    "elif xp >= 50:\n",
    "    print(\"Skill Level: Intermediate\")\n",
    "else:\n",
    "    print(\"Skill Level: Novice\")"
   ]
  },
  {
   "cell_type": "code",
   "execution_count": 6,
   "id": "8684cade",
   "metadata": {},
   "outputs": [
    {
     "name": "stdout",
     "output_type": "stream",
     "text": [
      "You surpass all expectations!\n"
     ]
    }
   ],
   "source": [
    "\"\"\"Compount Conditional Statements\n",
    "A Compound Conditional Statement is a conditional statement that contains two Boolean expressions.\n",
    "Logical Operators combine Boolean expressions or values that evaluate to one Boolean Value (AND, OR, NOT).\"\"\"\n",
    "#example:\n",
    "\n",
    "xp = 150\n",
    "difficulty = \"Hard\"\n",
    "\n",
    "if xp > 90 and difficulty == \"Hard\":\n",
    "    print(\"You surpass all expectations!\")"
   ]
  },
  {
   "cell_type": "code",
   "execution_count": 7,
   "id": "2f3d8f93",
   "metadata": {},
   "outputs": [
    {
     "name": "stdout",
     "output_type": "stream",
     "text": [
      "Enter a 3-letter word: cat\n",
      "Nice one.\n",
      "Enter a 3-letter word: dog\n",
      "Nice one.\n",
      "Enter a 3-letter word: dog\n",
      "You already said that word. Game over.\n",
      "You know 2 3-letter words.\n"
     ]
    }
   ],
   "source": [
    "\"\"\"Nested Conditional Statements\n",
    "Conditional statements can be nested in loops\"\"\"\n",
    "#example\n",
    "words = []\n",
    "game = \"play\"\n",
    "while game == \"play\":\n",
    "    new = input(\"Enter a 3-letter word: \")\n",
    "    if len(new) > 3 or len(new) < 3:\n",
    "        print(\"That is not a 3-letter word.\")\n",
    "    else:\n",
    "        if new in words:\n",
    "            game = \"over\"\n",
    "            print(\"You already said that word. Game over.\")\n",
    "            print(\"You know\", len(words), \"3-letter words.\")\n",
    "        else:\n",
    "            print(\"Nice one.\")\n",
    "            words.append(new)"
   ]
  },
  {
   "cell_type": "code",
   "execution_count": 8,
   "id": "93f6223f",
   "metadata": {},
   "outputs": [],
   "source": [
    "\"\"\"Importing Modules\n",
    "Functions are blocks of code that you can use to build a bigger program. \n",
    "You can add more premade functions by importing modules.\n",
    "You can import modules using the import command.\n",
    "Start with the word \"from\" then enter the module name then enter import, which means you are importing with the named module.\n",
    "Or just import the whole module. using import [module name].\"\"\"\n",
    "#Example: import the pandas module\n",
    "\n",
    "import pandas"
   ]
  },
  {
   "cell_type": "code",
   "execution_count": 9,
   "id": "098f738d",
   "metadata": {},
   "outputs": [
    {
     "name": "stdout",
     "output_type": "stream",
     "text": [
      "Hello, World!\n"
     ]
    }
   ],
   "source": [
    "\"\"\"Functions\n",
    "If you are using the same piece of code over and over in Python, then it is best to make your own function.\n",
    "When you make your own function, it is called defining the function\n",
    "To call a function is to use a function that is already defined. \n",
    "When you call a function, Python finds the function definition and runs the code found in the function body.\n",
    "You can only call a function once it is defined.\"\"\"\n",
    "\n",
    "def hello():\n",
    "    print(\"Hello, World!\")\n",
    "hello()"
   ]
  },
  {
   "cell_type": "code",
   "execution_count": 10,
   "id": "d94c04ba",
   "metadata": {},
   "outputs": [
    {
     "name": "stdout",
     "output_type": "stream",
     "text": [
      "3.281\n",
      "6.562\n",
      "2 meters =  6.562 feet\n",
      "Please enteran adjective:fancy\n",
      "Please entera nationality:Canadian\n",
      "Please entera person:Haley\n",
      "Please entera plural noun:Metals\n",
      "Please enteran adjective:funny\n",
      "Please entera plural noun:Wires\n",
      "Computers were invented by a  fancy Canadian engineer named Haley . To make a computer, you need to take a lot of  Metals , melt them down, and make  funny Wires .\n"
     ]
    }
   ],
   "source": [
    "\"\"\"Parameters and Return Values\n",
    "Parameters and variables are similar because they are both used to store information.\n",
    "Parameters are different because it cannot be used outside a function.\n",
    "A parameter is data that is provided as input from a user.\n",
    "Functions can use parameters only within the body of the function because a parameter \n",
    "in a function is only recognized within the function itself\"\"\"\n",
    "\n",
    "def convert(meters):\n",
    "    feet= meters * 3.281\n",
    "    print(feet)\n",
    "convert(1)\n",
    "\"\"\"The Return Value of a function is the information that you can pass from a function back out to the main program.\n",
    "This is the function's output. To pass information out of the function, write \"return\" followed by the output data.\n",
    "To print the return value, use print() function with the function call inside it.\n",
    "Return Value = Function Output\"\"\"\n",
    "\n",
    "def convert(meters):\n",
    "    feet= meters * 3.281\n",
    "    return feet\n",
    "\n",
    "print(convert(2))\n",
    "#adding text around function call in print function\n",
    "print(\"2 meters = \", convert(2), \"feet\")\n",
    "\n",
    "\"\"\"You can repeat a small chunk of code while using a parameter to slightly change it for each use.\"\"\"\n",
    "words = []\n",
    "def prompt(kind):\n",
    "    ask = \"Please enter\" + kind + \":\"\n",
    "    word = input(ask)\n",
    "    words.append(word)\n",
    "    \n",
    "prompt(\"an adjective\")\n",
    "prompt(\"a nationality\")\n",
    "prompt(\"a person\")\n",
    "prompt(\"a plural noun\")\n",
    "prompt(\"an adjective\")\n",
    "prompt(\"a plural noun\")\n",
    "\n",
    "print(\"Computers were invented by a \", words[0], words[1], \"engineer named\", words[2], \". To make a computer, you need to take a lot of \", words[3], \", melt them down, and make \", words[4], words[5], \".\")"
   ]
  },
  {
   "cell_type": "code",
   "execution_count": null,
   "id": "d05cb778",
   "metadata": {},
   "outputs": [],
   "source": []
  }
 ],
 "metadata": {
  "kernelspec": {
   "display_name": "Python 3 (ipykernel)",
   "language": "python",
   "name": "python3"
  },
  "language_info": {
   "codemirror_mode": {
    "name": "ipython",
    "version": 3
   },
   "file_extension": ".py",
   "mimetype": "text/x-python",
   "name": "python",
   "nbconvert_exporter": "python",
   "pygments_lexer": "ipython3",
   "version": "3.9.16"
  }
 },
 "nbformat": 4,
 "nbformat_minor": 5
}
