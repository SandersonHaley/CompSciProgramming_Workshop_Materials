{
 "cells": [
  {
   "cell_type": "code",
   "execution_count": 1,
   "id": "323e2674",
   "metadata": {},
   "outputs": [],
   "source": [
    "#Import the packages you will be using\n",
    "import os"
   ]
  },
  {
   "cell_type": "code",
   "execution_count": 2,
   "id": "b413bf42",
   "metadata": {},
   "outputs": [
    {
     "name": "stdout",
     "output_type": "stream",
     "text": [
      "Hello, World!\n"
     ]
    }
   ],
   "source": [
    "\"\"\"In each box, you can write commands and then you press Run to see the output. \n",
    "When writing commands, the rules that you have to follow for writing programs is called syntax. \n",
    "For the code below, we have the Function Name (\"print\") then the Parameter value in Parentheses. \n",
    "The print() function tells the computer to display the parameter value. This is similar to echo in Bash/Linux.\n",
    "The text you are reading now are comments. For a single line, you start the line with # and for multiple lines \n",
    "you put the text between 3 quotation marks\n",
    "\n",
    "Take a look at the print command again. \n",
    "You can see that the command and the string that is the parameter value are different colours.\n",
    "This helps you find errors and correct them as you write your commands\"\"\"\n",
    "\n",
    "print(\"Hello, World!\")"
   ]
  },
  {
   "cell_type": "code",
   "execution_count": 3,
   "id": "6ea719dc",
   "metadata": {},
   "outputs": [
    {
     "data": {
      "text/plain": [
       "3"
      ]
     },
     "execution_count": 3,
     "metadata": {},
     "output_type": "execute_result"
    }
   ],
   "source": [
    "\"\"\"Using Variables\n",
    "Variables are used to store information including strings, integers, lists, and Boolean values.\n",
    "To assign a value to a variable use this format: identifier=value. You can then reuse the varaible \n",
    "throughout your program.\n",
    "\n",
    "Rules for Naming Python Variables\n",
    "Good Naming\n",
    "1) Use numbers, uppercase letters, lowercase letters, and underscores (_).\n",
    "2) Start the identifier with a letter.\n",
    "3) Keep your identifier short and simple, and have it describe the variable it is used for.\n",
    "Bad Naming\n",
    "1) Includes spaces and symbols\n",
    "2) Uses key words that already mean something else in Python\n",
    "3) Usese the capital letters O or I or a lowercase l, because those can get confusing.\n",
    "4) Starting your variable with a number or symbol.\n",
    "\n",
    "Formatting Variable Names\n",
    "For python, many people prefer to use lowercase_and_underscores when naming varaibles.\"\"\"\n",
    "\n",
    "lives=3\n",
    "lives"
   ]
  },
  {
   "cell_type": "code",
   "execution_count": 4,
   "id": "9bf5aa2c",
   "metadata": {},
   "outputs": [
    {
     "name": "stdout",
     "output_type": "stream",
     "text": [
      "Henry is a fat, happy, and cheerful guinea pig.\n",
      "Henry\n"
     ]
    }
   ],
   "source": [
    "\"\"\"Strings\n",
    "Strings are a group of sequenced characteres within either single or double quotation marks.\n",
    "You can use strings to show messages or text on-screen in your program.\n",
    "Don't mix single and double quotation marks because it will not work.\n",
    "\n",
    "Using the Print Function with a string\n",
    "1) First assign the variable a value\n",
    "2) type the name of the variable inside the parentheses of the print function\n",
    "If you used quotation marks around the varaible name, the result would be having the variable name treated as a string\"\"\"\n",
    "\n",
    "Henry = \"Henry is a fat, happy, and cheerful guinea pig.\"\n",
    "print(Henry)\n",
    "print(\"Henry\")"
   ]
  },
  {
   "cell_type": "code",
   "execution_count": 5,
   "id": "05d32442",
   "metadata": {},
   "outputs": [
    {
     "name": "stdout",
     "output_type": "stream",
     "text": [
      "Henry likes to eat and eat and eat.\n",
      "She is so excited by food that I have to get her a toy to slow her eating.\n",
      "I bet she is going to hate it.\n"
     ]
    }
   ],
   "source": [
    "\"\"\"Displaying Text on Multiple Lines\n",
    "To make a string automatically display on multiple lines use 3 single quotation marks. \n",
    "The outputs will have the same line breaks as what was entered.\"\"\"\n",
    "\n",
    "Eating = '''Henry likes to eat and eat and eat.\n",
    "She is so excited by food that I have to get her a toy to slow her eating.\n",
    "I bet she is going to hate it.'''\n",
    "print(Eating)"
   ]
  },
  {
   "cell_type": "code",
   "execution_count": 6,
   "id": "707cbac5",
   "metadata": {},
   "outputs": [
    {
     "name": "stdout",
     "output_type": "stream",
     "text": [
      "Hooray\n",
      "Boo\n"
     ]
    }
   ],
   "source": [
    "\"\"\"Changing the Value of a String Variable\n",
    "Add another line of code that assigns the variable a new value. \n",
    "Once the value of the variable is changed, the old value is gone for good.\"\"\"\n",
    "\n",
    "reaction = \"Hooray\"\n",
    "print(reaction)\n",
    "reaction = \"Boo\"\n",
    "print(reaction)"
   ]
  },
  {
   "cell_type": "code",
   "execution_count": 7,
   "id": "468d99dd",
   "metadata": {},
   "outputs": [
    {
     "name": "stdout",
     "output_type": "stream",
     "text": [
      "My guinea pigs' full names are Henrietta \"Sugartits\" Sanderson and Charlene \"Bear\" Sanderson.\n",
      "My guinea pigs' full names are Henrietta \"Sugartits\" Sanderson and Charlene \"Bear\" Sanderson.\n"
     ]
    }
   ],
   "source": [
    "\"\"\"Formatting Strings\n",
    "Quotation Marks\n",
    "If you want to put quotation marks inside your string, \n",
    "you need to ESCAPE the interior quotation marks by placing a backslash (\\) before each of them.\n",
    "When you escape a character, you are telling Python to treat that character as part of the string instead of as a special character.\n",
    "EXCEPTION: if you use single quotation marcks at the beginning and end of your string, \n",
    "you can use double quotation marks as part of your string without needing to escape them.\"\"\"\n",
    "\n",
    "Names = \"My guinea pigs' full names are Henrietta \\\"Sugartits\\\" Sanderson and Charlene \\\"Bear\\\" Sanderson.\" \n",
    "print(Names)\n",
    "\n",
    "Names = 'My guinea pigs\\' full names are Henrietta \"Sugartits\" Sanderson and Charlene \"Bear\" Sanderson.' \n",
    "print(Names)"
   ]
  },
  {
   "cell_type": "code",
   "execution_count": 8,
   "id": "8bcaf12e",
   "metadata": {},
   "outputs": [
    {
     "name": "stdout",
     "output_type": "stream",
     "text": [
      "Henry likes to eat and eat and eat.\n",
      "She is so excited by food that I have to get her a toy to slow her eating.\n",
      "I bet she is going to hate it.\n"
     ]
    }
   ],
   "source": [
    "\"\"\"Formating Strings\n",
    "Line Breaks\n",
    "To print on a new line, use an escaped \"n\" \"\"\"\n",
    "\n",
    "Eating = '''Henry likes to eat and eat and eat.\\nShe is so excited by food that I have to get her a toy to slow her eating.\\nI bet she is going to hate it.'''\n",
    "print(Eating)"
   ]
  },
  {
   "cell_type": "code",
   "execution_count": 9,
   "id": "f818dea3",
   "metadata": {},
   "outputs": [
    {
     "name": "stdout",
     "output_type": "stream",
     "text": [
      "Hello! Hello! Hello! \n",
      "Charlie is noisy.Charlie likes to wheek in my ear.\n",
      "Charlie is noisy.Charlie likes to wheek in my ear.\n",
      "Why did the guinea pigs cross the road?\n"
     ]
    }
   ],
   "source": [
    "\"\"\"Operators\n",
    "Operators are symbols that represent actions that manipulate values.\n",
    "String Addition\n",
    "Operators can be used to add strings together to make a sentence.\n",
    "Addition operators can combine both variables and strong into a new string variable values.\"\"\"\n",
    "\n",
    "\n",
    "print(\"Hello! \" * 3)\n",
    "\n",
    "#String Addition\n",
    "\n",
    "part1 = \"Charlie is noisy.\"\n",
    "part2 = \"Charlie likes to wheek in my ear.\"\n",
    "\n",
    "print(part1 + part2)\n",
    "\n",
    "statement = part1 + part2\n",
    "\n",
    "print(statement)\n",
    "\n",
    "animal = \"guinea pigs\"\n",
    "sentence = \"Why did the \" + animal + \" cross the road?\"\n",
    "print(sentence)"
   ]
  },
  {
   "cell_type": "code",
   "execution_count": 10,
   "id": "f7175c23",
   "metadata": {},
   "outputs": [
    {
     "name": "stdout",
     "output_type": "stream",
     "text": [
      "What's your favourite animal?guinea pig\n",
      "Why did the guinea pig cross the road?\n"
     ]
    }
   ],
   "source": [
    "\"\"\"Letting a User Input Information\n",
    "The input() function displays the text you add between the parentheses and waits for the user to type something.\n",
    "You can save the information the user types in the window to a variable: variable = input(\"add your text here\").\n",
    "\"\"\"\n",
    "\n",
    "animal= input(\"What's your favourite animal?\")\n",
    "joke = \"Why did the \" + animal + \" cross the road?\"\n",
    "print(joke)"
   ]
  },
  {
   "cell_type": "code",
   "execution_count": 12,
   "id": "d3d8c9a0",
   "metadata": {},
   "outputs": [
    {
     "ename": "KeyboardInterrupt",
     "evalue": "Interrupted by user",
     "output_type": "error",
     "traceback": [
      "\u001b[0;31m---------------------------------------------------------------------------\u001b[0m",
      "\u001b[0;31mKeyboardInterrupt\u001b[0m                         Traceback (most recent call last)",
      "Cell \u001b[0;32mIn[12], line 6\u001b[0m\n\u001b[1;32m      1\u001b[0m \u001b[38;5;124;03m\"\"\"String Functions\u001b[39;00m\n\u001b[1;32m      2\u001b[0m \u001b[38;5;124;03mPython has built-in functions that can change strings. \u001b[39;00m\n\u001b[1;32m      3\u001b[0m \u001b[38;5;124;03mString functions help change data into a more usable format and can be used using this format: variable.function()\u001b[39;00m\n\u001b[1;32m      4\u001b[0m \u001b[38;5;124;03mSome useful functions include capitalize(), lower(), swapcase() and upper()\"\"\"\u001b[39;00m\n\u001b[0;32m----> 6\u001b[0m animal\u001b[38;5;241m=\u001b[39m \u001b[38;5;28;43minput\u001b[39;49m\u001b[43m(\u001b[49m\u001b[38;5;124;43m\"\u001b[39;49m\u001b[38;5;124;43mWhat\u001b[39;49m\u001b[38;5;124;43m'\u001b[39;49m\u001b[38;5;124;43ms your favourite animal?\u001b[39;49m\u001b[38;5;124;43m\"\u001b[39;49m\u001b[43m)\u001b[49m\u001b[38;5;241m.\u001b[39mlower()\n\u001b[1;32m      7\u001b[0m \u001b[38;5;28mprint\u001b[39m(animal)\n\u001b[1;32m      8\u001b[0m animal \u001b[38;5;241m=\u001b[39m animal\u001b[38;5;241m.\u001b[39mlower()\n",
      "File \u001b[0;32m~/miniconda3/envs/jupyter/lib/python3.9/site-packages/ipykernel/kernelbase.py:1191\u001b[0m, in \u001b[0;36mKernel.raw_input\u001b[0;34m(self, prompt)\u001b[0m\n\u001b[1;32m   1189\u001b[0m     msg \u001b[38;5;241m=\u001b[39m \u001b[38;5;124m\"\u001b[39m\u001b[38;5;124mraw_input was called, but this frontend does not support input requests.\u001b[39m\u001b[38;5;124m\"\u001b[39m\n\u001b[1;32m   1190\u001b[0m     \u001b[38;5;28;01mraise\u001b[39;00m StdinNotImplementedError(msg)\n\u001b[0;32m-> 1191\u001b[0m \u001b[38;5;28;01mreturn\u001b[39;00m \u001b[38;5;28;43mself\u001b[39;49m\u001b[38;5;241;43m.\u001b[39;49m\u001b[43m_input_request\u001b[49m\u001b[43m(\u001b[49m\n\u001b[1;32m   1192\u001b[0m \u001b[43m    \u001b[49m\u001b[38;5;28;43mstr\u001b[39;49m\u001b[43m(\u001b[49m\u001b[43mprompt\u001b[49m\u001b[43m)\u001b[49m\u001b[43m,\u001b[49m\n\u001b[1;32m   1193\u001b[0m \u001b[43m    \u001b[49m\u001b[38;5;28;43mself\u001b[39;49m\u001b[38;5;241;43m.\u001b[39;49m\u001b[43m_parent_ident\u001b[49m\u001b[43m[\u001b[49m\u001b[38;5;124;43m\"\u001b[39;49m\u001b[38;5;124;43mshell\u001b[39;49m\u001b[38;5;124;43m\"\u001b[39;49m\u001b[43m]\u001b[49m\u001b[43m,\u001b[49m\n\u001b[1;32m   1194\u001b[0m \u001b[43m    \u001b[49m\u001b[38;5;28;43mself\u001b[39;49m\u001b[38;5;241;43m.\u001b[39;49m\u001b[43mget_parent\u001b[49m\u001b[43m(\u001b[49m\u001b[38;5;124;43m\"\u001b[39;49m\u001b[38;5;124;43mshell\u001b[39;49m\u001b[38;5;124;43m\"\u001b[39;49m\u001b[43m)\u001b[49m\u001b[43m,\u001b[49m\n\u001b[1;32m   1195\u001b[0m \u001b[43m    \u001b[49m\u001b[43mpassword\u001b[49m\u001b[38;5;241;43m=\u001b[39;49m\u001b[38;5;28;43;01mFalse\u001b[39;49;00m\u001b[43m,\u001b[49m\n\u001b[1;32m   1196\u001b[0m \u001b[43m\u001b[49m\u001b[43m)\u001b[49m\n",
      "File \u001b[0;32m~/miniconda3/envs/jupyter/lib/python3.9/site-packages/ipykernel/kernelbase.py:1234\u001b[0m, in \u001b[0;36mKernel._input_request\u001b[0;34m(self, prompt, ident, parent, password)\u001b[0m\n\u001b[1;32m   1231\u001b[0m \u001b[38;5;28;01mexcept\u001b[39;00m \u001b[38;5;167;01mKeyboardInterrupt\u001b[39;00m:\n\u001b[1;32m   1232\u001b[0m     \u001b[38;5;66;03m# re-raise KeyboardInterrupt, to truncate traceback\u001b[39;00m\n\u001b[1;32m   1233\u001b[0m     msg \u001b[38;5;241m=\u001b[39m \u001b[38;5;124m\"\u001b[39m\u001b[38;5;124mInterrupted by user\u001b[39m\u001b[38;5;124m\"\u001b[39m\n\u001b[0;32m-> 1234\u001b[0m     \u001b[38;5;28;01mraise\u001b[39;00m \u001b[38;5;167;01mKeyboardInterrupt\u001b[39;00m(msg) \u001b[38;5;28;01mfrom\u001b[39;00m \u001b[38;5;28;01mNone\u001b[39;00m\n\u001b[1;32m   1235\u001b[0m \u001b[38;5;28;01mexcept\u001b[39;00m \u001b[38;5;167;01mException\u001b[39;00m:\n\u001b[1;32m   1236\u001b[0m     \u001b[38;5;28mself\u001b[39m\u001b[38;5;241m.\u001b[39mlog\u001b[38;5;241m.\u001b[39mwarning(\u001b[38;5;124m\"\u001b[39m\u001b[38;5;124mInvalid Message:\u001b[39m\u001b[38;5;124m\"\u001b[39m, exc_info\u001b[38;5;241m=\u001b[39m\u001b[38;5;28;01mTrue\u001b[39;00m)\n",
      "\u001b[0;31mKeyboardInterrupt\u001b[0m: Interrupted by user"
     ]
    }
   ],
   "source": [
    "\"\"\"String Functions\n",
    "Python has built-in functions that can change strings. \n",
    "String functions help change data into a more usable format and can be used using this format: variable.function()\n",
    "Some useful functions include capitalize(), lower(), swapcase() and upper()\"\"\"\n",
    "\n",
    "animal= input(\"What's your favourite animal?\").lower()\n",
    "print(animal)\n",
    "animal = animal.lower()\n",
    "print(animal)\n",
    "#OR\n",
    "animal= input(\"What's your favourite animal?\")\n",
    "joke = \"Why did the \" + animal.lower() + \" cross the road?\"\n",
    "print(joke)\n"
   ]
  },
  {
   "cell_type": "code",
   "execution_count": 30,
   "id": "a2e0d2d5",
   "metadata": {},
   "outputs": [
    {
     "name": "stdout",
     "output_type": "stream",
     "text": [
      "9\n",
      "45\n",
      "Enter the rectangle's width. 2\n",
      "Enter the rectangle's height. 2\n",
      "4\n"
     ]
    }
   ],
   "source": [
    "\"\"\"Numbers as Variables\n",
    "When assigning a number value to a variable, DO NOT surround with quotation marks.\n",
    "\n",
    "Calculations with Number Variables\n",
    "You can make two number varaiables, add them together, then print the sum.\n",
    "\n",
    "Number Types\n",
    "Python uses different types of numbers. Two of the types are INTEGERS and FLOATs.\n",
    "\n",
    "Integers\n",
    "In Python, integers are positive or negative whole numbers that don't use a decimal place.\"\"\"\n",
    "\n",
    "num1 = 4\n",
    "num2 = 5\n",
    "sum = num1 +num2\n",
    "print(sum)\n",
    "\n",
    "#vs\n",
    "\n",
    "num1 = \"4\"\n",
    "num2 = \"5\"\n",
    "sum = num1 +num2\n",
    "print(sum)\n",
    "\n",
    "\"\"\"Sometimes it is necessary to convert a variable to an integer data type using the int() function.\"\"\"\n",
    "width = input(\"Enter the rectangle's width. \")\n",
    "height = input(\"Enter the rectangle's height. \")\n",
    "width = int(width)\n",
    "height = int(height)\n",
    "print(width*height)"
   ]
  },
  {
   "cell_type": "code",
   "execution_count": 13,
   "id": "4b342612",
   "metadata": {},
   "outputs": [
    {
     "name": "stdout",
     "output_type": "stream",
     "text": [
      "9.3\n"
     ]
    }
   ],
   "source": [
    "\"\"\"Floats\n",
    "Floats( or floating point numbers) are numbers that have a decimal point. \n",
    "To convert a variable value from an integer or string to a float, use float().\n",
    "\"\"\"\n",
    "num1 = 6\n",
    "num1 = float(num1)\n",
    "sum = num1 + 3.3\n",
    "print(sum)"
   ]
  },
  {
   "cell_type": "code",
   "execution_count": 14,
   "id": "bde05036",
   "metadata": {},
   "outputs": [
    {
     "data": {
      "text/plain": [
       "10"
      ]
     },
     "execution_count": 14,
     "metadata": {},
     "output_type": "execute_result"
    }
   ],
   "source": [
    "\"\"\"Mathematical Expressions\n",
    "Values and Operators combine to make Expressions\n",
    "Variables can also be used to hole number values and be used in math expressions\n",
    "\n",
    "There are seven common math operators\n",
    "1) Addition (+)\n",
    "5+2\n",
    "2) Subtraction (-)\n",
    "5-2\n",
    "3) Multiplication (*)\n",
    "5*2\n",
    "4) Division (/)\n",
    "5/2\n",
    "5) Modulus (%): the remainder portion of a qoutient\n",
    "5%2\n",
    "6) Exponent (**)\n",
    "5**2\n",
    "7) Floor Division (//): divides two numbers and ignores the remainder\n",
    "5//2 \"\"\"\n",
    "\n",
    "#use of a varaiable in an expression\n",
    "x=4\n",
    "x+6\n"
   ]
  },
  {
   "cell_type": "code",
   "execution_count": 15,
   "id": "769572d9",
   "metadata": {},
   "outputs": [
    {
     "data": {
      "text/plain": [
       "6"
      ]
     },
     "execution_count": 15,
     "metadata": {},
     "output_type": "execute_result"
    }
   ],
   "source": [
    "\"\"\"Order of Operations\n",
    "1) Solve any parts of the eqaution that are inside brackets or parentheses. \n",
    "If there is more than one set of parentheses, solve the innermost equaation first.\n",
    "2) Calculate exponents, absolute value and square roots from left to right.\n",
    "3) Solve all multiplication and division from left to right.\n",
    "4) complete the addition and substraction from left to right.\"\"\"\n",
    "\n",
    "2 * (6 - 3)"
   ]
  },
  {
   "cell_type": "code",
   "execution_count": 16,
   "id": "f66df049",
   "metadata": {},
   "outputs": [
    {
     "name": "stdout",
     "output_type": "stream",
     "text": [
      "15\n"
     ]
    }
   ],
   "source": [
    "\"\"\"Printing Mathematical Expressions\n",
    "If an expression is inside the print function, Python will print the value of the expression.\"\"\"\n",
    "print(5 * 3)"
   ]
  },
  {
   "cell_type": "code",
   "execution_count": 18,
   "id": "ac932ec3",
   "metadata": {},
   "outputs": [
    {
     "name": "stdout",
     "output_type": "stream",
     "text": [
      "bananas\n",
      "['bananas', 'grapes', 'oranges']\n"
     ]
    }
   ],
   "source": [
    "\"\"\"Lists and Boolean Expressions\n",
    "Lists\n",
    "A list is a variable that stores multiple values. \n",
    "Lists can store all types of values including numbers, strings, and other lists.\n",
    "In Python, lists are formatted using square brackets (and sometimes quotation marks), with a comma between each item.\n",
    "Think of a list as a row of boxes, where each box holds a value. Every box on the list gets a number, starting with 0. \n",
    "This number is called the index.The index is used to find or change specific values or items within the list. \n",
    "A specific item in a list is located using the format list(#).\n",
    "\"\"\"\n",
    "fruits = ['apples', 'bananas', 'grapes', 'oranges', 'pears']\n",
    "# to display the second item of the fruit list\n",
    "print(fruits[1])\n",
    "# can also print out a section of the list by naming the range of indexes to print\n",
    "print(fruits[1:4])\n"
   ]
  },
  {
   "cell_type": "code",
   "execution_count": 50,
   "id": "a52135cc",
   "metadata": {},
   "outputs": [
    {
     "name": "stdout",
     "output_type": "stream",
     "text": [
      "['apples', 'bananas', 'kiwi', 'oranges', 'pears']\n",
      "['apples', 'bananas', 'kiwi', 'oranges', 'pears', 'cherries']\n",
      "['apples', 'bananas', 'peaches', 'kiwi', 'oranges', 'pears', 'cherries']\n",
      "['apples', 'bananas', 'peaches', 'oranges', 'pears', 'cherries']\n",
      "['apples', 'bananas', 'cherries', 'oranges', 'peaches', 'pears']\n",
      "['pears', 'peaches', 'oranges', 'cherries', 'bananas', 'apples']\n",
      "6\n",
      "['apples', 'bananas', 'kiwi', 'carrots', 'peas', 'onions']\n"
     ]
    }
   ],
   "source": [
    "\"\"\"There are lots of different ways to update a list. \n",
    "You can replace an item in a list after the list has been created.\n",
    "To replace a value of an item within a list\n",
    "1) reference (name) the index location\n",
    "2) reassign the value\"\"\"\n",
    "fruits[2] = \"kiwi\"\n",
    "print(fruits)\n",
    "\"\"\"To add an item to the end of a list, use the append() function\"\"\"\n",
    "fruits.append(\"cherries\")\n",
    "print(fruits)\n",
    "\"\"\"To insert an item between two other values in a list, use the insert() function. \n",
    "Inside the parentheses, tell the function where to insert the new value and what the value should be.\"\"\"\n",
    "fruits.insert(2, \"peaches\")\n",
    "print(fruits)\n",
    "\"\"\"To remove an item from a list, use the remove() function.\n",
    "Inside the parentheses, tell the function which item you want removed by entering the value (name).\"\"\"\n",
    "fruits.remove(\"kiwi\")\n",
    "print(fruits)\n",
    "\"\"\"To sort a list: use sort() to get the list in alphabetical or numerical order. Use reverse() to get the opposite order.\"\"\"\n",
    "fruits.sort()\n",
    "print(fruits)\n",
    "fruits.reverse()\n",
    "print(fruits)\n",
    "\"\"\"To get the number of items in a list, use the len() function\"\"\"\n",
    "fruit_length = len(fruits)\n",
    "print(fruit_length)\n",
    "\"\"\"To add one list to the end of another list, use the + operator\"\"\"\n",
    "fruits = [\"apples\", \"bananas\", \"kiwi\"]\n",
    "vegetables = [\"carrots\", \"peas\", \"onions\"]\n",
    "produce = fruits + vegetables\n",
    "print(produce)"
   ]
  },
  {
   "cell_type": "code",
   "execution_count": 19,
   "id": "e7211247",
   "metadata": {},
   "outputs": [
    {
     "name": "stdout",
     "output_type": "stream",
     "text": [
      "['Gala', 'Empire', 'McIntosh', 'Golden Delicious']\n",
      "McIntosh\n"
     ]
    }
   ],
   "source": [
    "\"\"\"Lists Within Lists\n",
    "A list can be set within another list. The second list is called the INNER LIST.\n",
    "You can use this list to show a subcategory.\"\"\"\n",
    "\n",
    "fruits = [\"bananas\", [\"Gala\", \"Empire\", \"McIntosh\", \"Golden Delicious\"], \"kiwi\", \"oranges\", \"pears\"]\n",
    "#To get the inner list\n",
    "print(fruits[1])\n",
    "\n",
    "\"\"\"you can print a single apple name by using the index location 1 to reference the list of apples then add the index location of the specific apple.\"\"\"\n",
    "print(fruits[1][2])"
   ]
  },
  {
   "cell_type": "code",
   "execution_count": 21,
   "id": "57970da3",
   "metadata": {},
   "outputs": [
    {
     "name": "stdout",
     "output_type": "stream",
     "text": [
      "True\n",
      "False\n"
     ]
    }
   ],
   "source": [
    "\"\"\"Boolean Expressions\n",
    "In programming, it is very common to want to know if something is true or false. \n",
    "Python automatically detects a Boolean-type variable when the value is set to True or False.\n",
    "When you are setting a variable as True or False, make sure you capitalize the first letter.\n",
    "Boolean variables can only be True or False.\n",
    "When you assign a Boolean expression to a variable, Python will set the value to True or False depending on whether the Boolean expression is true or false \n",
    "\n",
    "Comparison Operators\n",
    "They evaluate information to be true or false. They compare two values to each other\n",
    " == is equal to \n",
    " != is not equal to \n",
    " < is less than\n",
    " > is greater than\n",
    " <= is less than or equal to\n",
    " >= is greater than or equal to\"\"\"\n",
    "\n",
    "#Examples\n",
    "height = 58\n",
    "meet_limit = height > 50\n",
    "print(meet_limit)\n",
    "\n",
    "test1 = 2==4\n",
    "print(test1)\n",
    "\n"
   ]
  },
  {
   "cell_type": "code",
   "execution_count": null,
   "id": "9908327d",
   "metadata": {},
   "outputs": [],
   "source": []
  }
 ],
 "metadata": {
  "kernelspec": {
   "display_name": "Python 3 (ipykernel)",
   "language": "python",
   "name": "python3"
  },
  "language_info": {
   "codemirror_mode": {
    "name": "ipython",
    "version": 3
   },
   "file_extension": ".py",
   "mimetype": "text/x-python",
   "name": "python",
   "nbconvert_exporter": "python",
   "pygments_lexer": "ipython3",
   "version": "3.9.16"
  }
 },
 "nbformat": 4,
 "nbformat_minor": 5
}
